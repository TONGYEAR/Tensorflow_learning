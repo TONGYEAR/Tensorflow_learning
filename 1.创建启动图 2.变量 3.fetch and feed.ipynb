{
 "cells": [
  {
   "cell_type": "code",
   "execution_count": 4,
   "metadata": {},
   "outputs": [],
   "source": [
    "import tensorflow as tf\n",
    "#####"
   ]
  },
  {
   "cell_type": "code",
   "execution_count": 11,
   "metadata": {},
   "outputs": [
    {
     "name": "stdout",
     "output_type": "stream",
     "text": [
      "Tensor(\"MatMul:0\", shape=(1, 1), dtype=int32)\n"
     ]
    }
   ],
   "source": [
    "##创建一个常量OP\n",
    "m1= tf.constant([[1,2]])\n",
    "m2=tf.constant([[2],[3]])\n",
    " ### 创建矩阵相乘\n",
    "product = tf.matmul(m1,m2)\n",
    "print(product)"
   ]
  },
  {
   "cell_type": "code",
   "execution_count": 15,
   "metadata": {},
   "outputs": [
    {
     "name": "stdout",
     "output_type": "stream",
     "text": [
      "[[8]]\n"
     ]
    }
   ],
   "source": [
    "#定义一个会话，启动默认图\n",
    "sess= tf.Session()\n",
    "##执行乘法使用run\n",
    "result= sess.run(product)\n",
    "print(result)\n",
    "sess.close()"
   ]
  },
  {
   "cell_type": "code",
   "execution_count": 16,
   "metadata": {},
   "outputs": [
    {
     "name": "stdout",
     "output_type": "stream",
     "text": [
      "[[8]]\n"
     ]
    }
   ],
   "source": [
    "with tf.Session( ) as sess:\n",
    "    ##执行乘法使用run\n",
    "    result= sess.run(product)\n",
    "    print(result)\n",
    "    "
   ]
  },
  {
   "cell_type": "code",
   "execution_count": 23,
   "metadata": {},
   "outputs": [
    {
     "name": "stdout",
     "output_type": "stream",
     "text": [
      "[-2 -1]\n",
      "[-1  1]\n"
     ]
    }
   ],
   "source": [
    "####Tensorflow 中变量的使用\n",
    "x= tf.Variable([1,2])\n",
    "a=tf.constant([3,3])\n",
    "##增加一个减法的op\n",
    "sub=tf.subtract(x,a)\n",
    "##增加一个加法的op\n",
    "add=tf.add(x,sub)\n",
    "\n",
    "###初始化全局变量\n",
    "init= tf.global_variables_initializer()\n",
    "\n",
    "with tf.Session() as sess:\n",
    "    sess.run(init)\n",
    "    print(sess.run(sub))\n",
    "    print(sess.run(add))"
   ]
  },
  {
   "cell_type": "code",
   "execution_count": 28,
   "metadata": {},
   "outputs": [
    {
     "name": "stdout",
     "output_type": "stream",
     "text": [
      "0\n",
      "1\n",
      "2\n",
      "3\n",
      "4\n",
      "5\n"
     ]
    }
   ],
   "source": [
    "\n",
    "\n",
    "####创建一个变量初始化为0.并且可以起名字\n",
    "state= tf.Variable(0,name='counter')\n",
    "\n",
    "###创建一个op，作用是使state+1\n",
    "new_value= tf.add(state,1)\n",
    "\n",
    "####这是一个赋值op\n",
    "update=tf.assign(state,new_value)\n",
    "##初始化\n",
    "init=tf.global_variables_initializer()\n",
    "\n",
    "with tf.Session() as sess:\n",
    "    sess.run(init)\n",
    "    print(sess.run(state))\n",
    "    for _ in range(5):\n",
    "        sess.run(update)\n",
    "        print(sess.run(state))"
   ]
  },
  {
   "cell_type": "code",
   "execution_count": 30,
   "metadata": {},
   "outputs": [
    {
     "name": "stdout",
     "output_type": "stream",
     "text": [
      "[21.0, 7.0]\n"
     ]
    }
   ],
   "source": [
    "####Tensorflow中的Fetch and Feed\n",
    "###Fectch 同时执行多个op 得到运行的结果\n",
    "input1= tf.constant(3.0)\n",
    "input2= tf.constant(2.0)\n",
    "input3= tf.constant(5.0)\n",
    "\n",
    "add=tf.add(input2,input3)\n",
    "mul=tf.multiply(input1,add)\n",
    "\n",
    "with tf.Session() as sess:\n",
    "    result =sess.run([mul,add])\n",
    "    print(result)"
   ]
  },
  {
   "cell_type": "code",
   "execution_count": 37,
   "metadata": {},
   "outputs": [
    {
     "name": "stdout",
     "output_type": "stream",
     "text": [
      "[150.]\n"
     ]
    }
   ],
   "source": [
    "####Feed \n",
    "###placeholder是占位符\n",
    "input1= tf.placeholder(tf.float32)\n",
    "input2=tf.placeholder(tf.float32)\n",
    "output=tf.multiply(input1,input2)\n",
    "###运行的时候再进行传入值\n",
    "with tf.Session() as sess:\n",
    "    ###feed 以字典的形式传入\n",
    "    print(sess.run(output,feed_dict={input1:[75.],input2:[2.]}))\n",
    "    \n"
   ]
  },
  {
   "cell_type": "code",
   "execution_count": null,
   "metadata": {},
   "outputs": [],
   "source": []
  }
 ],
 "metadata": {
  "kernelspec": {
   "display_name": "Python 3",
   "language": "python",
   "name": "python3"
  },
  "language_info": {
   "codemirror_mode": {
    "name": "ipython",
    "version": 3
   },
   "file_extension": ".py",
   "mimetype": "text/x-python",
   "name": "python",
   "nbconvert_exporter": "python",
   "pygments_lexer": "ipython3",
   "version": "3.6.6"
  }
 },
 "nbformat": 4,
 "nbformat_minor": 2
}
