{
 "cells": [
  {
   "cell_type": "code",
   "execution_count": 1,
   "metadata": {},
   "outputs": [],
   "source": [
    "import tensorflow as tf\n",
    "from tensorflow.examples.tutorials.mnist import input_data\n"
   ]
  },
  {
   "cell_type": "code",
   "execution_count": 3,
   "metadata": {},
   "outputs": [
    {
     "name": "stdout",
     "output_type": "stream",
     "text": [
      "Extracting MNIST_data/train-images-idx3-ubyte.gz\n"
     ]
    },
    {
     "name": "stdout",
     "output_type": "stream",
     "text": [
      "Extracting MNIST_data/train-labels-idx1-ubyte.gz\nExtracting MNIST_data/t10k-images-idx3-ubyte.gz\nExtracting MNIST_data/t10k-labels-idx1-ubyte.gz\n"
     ]
    },
    {
     "name": "stdout",
     "output_type": "stream",
     "text": [
      "Iter0,Testing acc0.8946\n"
     ]
    },
    {
     "name": "stdout",
     "output_type": "stream",
     "text": [
      "Iter1,Testing acc0.9235\n"
     ]
    },
    {
     "name": "stdout",
     "output_type": "stream",
     "text": [
      "Iter2,Testing acc0.9402\n"
     ]
    },
    {
     "name": "stdout",
     "output_type": "stream",
     "text": [
      "Iter3,Testing acc0.9183\n"
     ]
    },
    {
     "name": "stdout",
     "output_type": "stream",
     "text": [
      "Iter4,Testing acc0.9455\n"
     ]
    },
    {
     "name": "stdout",
     "output_type": "stream",
     "text": [
      "Iter5,Testing acc0.9356\n"
     ]
    }
   ],
   "source": [
    "###清楚数据缓存\n",
    "tf.reset_default_graph()\n",
    "##载入数据集\n",
    "mnist= input_data.read_data_sets('MNIST_data/',one_hot=True)\n",
    "\n",
    "###输入图片是28*28\n",
    "n_inputs = 28 ###输入的列数\n",
    "max_time = 28 ###输入的行数\n",
    "lstm_size = 100 ###LSTM的数量\n",
    "n_classes = 10 ###输出的分类数\n",
    "batch_size = 50 ###每次采样的数量\n",
    "n_batch = mnist.train.num_examples //batch_size  ###采样的次数  \n",
    "\n",
    "\n",
    "###建立 x，y，权重和偏置项\n",
    "x= tf.placeholder(tf.float32,[None,784])\n",
    "\n",
    "y=tf.placeholder(tf.float32,[None,10])\n",
    "\n",
    "weights= tf.Variable(tf.truncated_normal([lstm_size,n_classes],stddev=0.1))\n",
    "\n",
    "biases=tf.Variable(tf.constant(0.1,shape=[n_classes]))\n",
    "\n",
    "##定义神经网络\n",
    "###输入变量 x，权重和偏置项\n",
    "def RNN(X,weights,biases):\n",
    "    ###输入的时候改变数据的格式 按28*28排列提取每个\n",
    "    inputs=tf.reshape(X,[-1,max_time,n_inputs])\n",
    "    ###建立RNN核心使用LSTM\n",
    "    lstm_cell=tf.contrib.rnn.BasicLSTMCell(lstm_size)\n",
    "    ###然后输出outputs 和 final_state\n",
    "    outputs,final_state=tf.nn.dynamic_rnn(lstm_cell,inputs,dtype=tf.float32)\n",
    "    ###找到final_state为 1 的输出并且和他们的weights 相乘，即开门的输出，之后再加上偏置项\n",
    "    results= tf.nn.softmax(tf.matmul(final_state[1],weights)+biases)\n",
    "    return results\n",
    "\n",
    "###产生预测值\n",
    "prediction= RNN(x,weights,biases)\n",
    "##计算交叉熵\n",
    "cross_entropy= tf.reduce_mean(tf.nn.softmax_cross_entropy_with_logits(logits=prediction,labels=y))\n",
    "\n",
    "##选择训练的优化器\n",
    "train_step= tf.train.AdamOptimizer(0.01).minimize(cross_entropy)\n",
    "\n",
    "##计算正确率\n",
    "correct_prediction=tf.equal(tf.argmax(y,1),tf.argmax(prediction,1))\n",
    "##计算准确率\n",
    "acc=tf.reduce_mean(tf.cast(correct_prediction,tf.float32))\n",
    "\n",
    "##初始化变量\n",
    "init= tf.global_variables_initializer()\n",
    "\n",
    "##开始写计算图\n",
    "with tf.Session() as sess:\n",
    "    sess.run(init)\n",
    "    for i in range(6):\n",
    "        for batch in range(n_batch):\n",
    "            ##得到每一个batch的x和y\n",
    "            batch_xs,batch_ys =mnist.train.next_batch(batch_size)\n",
    "            ##将x和y输入模型\n",
    "            sess.run(train_step,feed_dict= {x:batch_xs,y:batch_ys})\n",
    "        ##计算准确率\n",
    "        acc1=sess.run(acc,feed_dict={x:mnist.test.images,y:mnist.test.labels})\n",
    "        ##打印\n",
    "        print('Iter'+str(i)+',Testing acc'+str(acc1))\n",
    "\n",
    "\n"
   ]
  },
  {
   "cell_type": "code",
   "execution_count": null,
   "metadata": {},
   "outputs": [],
   "source": [
    "_ys"
   ]
  }
 ],
 "metadata": {
  "kernelspec": {
   "display_name": "Python 3",
   "language": "python",
   "name": "python3"
  },
  "language_info": {
   "codemirror_mode": {
    "name": "ipython",
    "version": 3
   },
   "file_extension": ".py",
   "mimetype": "text/x-python",
   "name": "python",
   "nbconvert_exporter": "python",
   "pygments_lexer": "ipython3",
   "version": "3.6.6"
  }
 },
 "nbformat": 4,
 "nbformat_minor": 2
}
